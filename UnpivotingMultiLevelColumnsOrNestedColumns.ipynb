{
 "cells": [
  {
   "cell_type": "markdown",
   "metadata": {},
   "source": [
    "# Unpivot ANY nested table\n",
    "[Following DataChant's example in PowerBI](https://datachant.com/2016/01/03/transform-any-nested-table-to-pivot-table-with-function-query/) this exercise is conducted in Pandas"
   ]
  },
  {
   "cell_type": "code",
   "execution_count": 2,
   "metadata": {},
   "outputs": [],
   "source": [
    "import pandas as pd "
   ]
  },
  {
   "cell_type": "markdown",
   "metadata": {},
   "source": [
    "<div class='alert alert-block alert-info' >\n",
    "    <li>Read in input sheet with sheet_name\n",
    "    <li>Specify multi-level header \n",
    "</div>    "
   ]
  },
  {
   "cell_type": "code",
   "execution_count": 3,
   "metadata": {},
   "outputs": [],
   "source": [
    "df = pd.read_excel(r'Unpivot Any Nested Table.xlsx', sheet_name = 'Sheet1', header = [0, 1, 2])"
   ]
  },
  {
   "cell_type": "markdown",
   "metadata": {},
   "source": [
    "## Store a copy of the data read in\n",
    "I make this a standard practice since generally we reach out for data over the web and it might take rather a long time to retrieve it. Manipulation can corrupt the original data and so a copy comes in handy"
   ]
  },
  {
   "cell_type": "code",
   "execution_count": 5,
   "metadata": {},
   "outputs": [],
   "source": [
    "df_copy = df.copy()"
   ]
  },
  {
   "cell_type": "code",
   "execution_count": 6,
   "metadata": {},
   "outputs": [
    {
     "data": {
      "text/plain": [
       "MultiIndex([('Unnamed: 0_level_0', 'Unnamed: 0_level_1', 'Unnamed: 0_level_2'),\n",
       "            ('Unnamed: 1_level_0', 'Unnamed: 1_level_1', 'Unnamed: 1_level_2'),\n",
       "            ('Unnamed: 2_level_0', 'Unnamed: 2_level_1', 'Unnamed: 2_level_2'),\n",
       "            (    'Private School',               'Male',               'Math'),\n",
       "            (    'Private School',               'Male',            'English'),\n",
       "            (    'Private School',               'Male',          'Chemistry'),\n",
       "            (    'Private School',             'Female',               'Math'),\n",
       "            (    'Private School',             'Female',            'English'),\n",
       "            (     'Public School',               'Male',               'Math'),\n",
       "            (     'Public School',               'Male',            'English'),\n",
       "            (     'Public School',               'Male',          'Chemistry'),\n",
       "            (     'Public School',             'Female',               'Math'),\n",
       "            (     'Public School',             'Female',            'English'),\n",
       "            (     'Public School',             'Female',          'Chemistry')],\n",
       "           )"
      ]
     },
     "execution_count": 6,
     "metadata": {},
     "output_type": "execute_result"
    }
   ],
   "source": [
    "df.columns"
   ]
  },
  {
   "cell_type": "markdown",
   "metadata": {
    "scrolled": true
   },
   "source": [
    "## Standard handling of multi-level columns involves joining the column tuples seen above using a delimiter such as underscore"
   ]
  },
  {
   "cell_type": "code",
   "execution_count": 7,
   "metadata": {},
   "outputs": [],
   "source": [
    "newCols = ['_'.join(col) for col in df.columns]\n",
    "df.columns = newCols\n",
    "\n"
   ]
  },
  {
   "cell_type": "code",
   "execution_count": 8,
   "metadata": {},
   "outputs": [
    {
     "data": {
      "text/plain": [
       "Index(['Unnamed: 0_level_0_Unnamed: 0_level_1_Unnamed: 0_level_2',\n",
       "       'Unnamed: 1_level_0_Unnamed: 1_level_1_Unnamed: 1_level_2',\n",
       "       'Unnamed: 2_level_0_Unnamed: 2_level_1_Unnamed: 2_level_2',\n",
       "       'Private School_Male_Math', 'Private School_Male_English',\n",
       "       'Private School_Male_Chemistry', 'Private School_Female_Math',\n",
       "       'Private School_Female_English', 'Public School_Male_Math',\n",
       "       'Public School_Male_English', 'Public School_Male_Chemistry',\n",
       "       'Public School_Female_Math', 'Public School_Female_English',\n",
       "       'Public School_Female_Chemistry'],\n",
       "      dtype='object')"
      ]
     },
     "execution_count": 8,
     "metadata": {},
     "output_type": "execute_result"
    }
   ],
   "source": [
    "df.columns"
   ]
  },
  {
   "cell_type": "markdown",
   "metadata": {},
   "source": [
    "## Since we know the names of the first three column, we rename them"
   ]
  },
  {
   "cell_type": "code",
   "execution_count": 9,
   "metadata": {},
   "outputs": [],
   "source": [
    "df.rename(columns={'Unnamed: 0_level_0_Unnamed: 0_level_1_Unnamed: 0_level_2':'Continent', 'Unnamed: 1_level_0_Unnamed: 1_level_1_Unnamed: 1_level_2':'Country',  'Unnamed: 2_level_0_Unnamed: 2_level_1_Unnamed: 2_level_2':'City'}, inplace=True)"
   ]
  },
  {
   "cell_type": "code",
   "execution_count": 10,
   "metadata": {},
   "outputs": [
    {
     "data": {
      "text/plain": [
       "Index(['Continent', 'Country', 'City', 'Private School_Male_Math',\n",
       "       'Private School_Male_English', 'Private School_Male_Chemistry',\n",
       "       'Private School_Female_Math', 'Private School_Female_English',\n",
       "       'Public School_Male_Math', 'Public School_Male_English',\n",
       "       'Public School_Male_Chemistry', 'Public School_Female_Math',\n",
       "       'Public School_Female_English', 'Public School_Female_Chemistry'],\n",
       "      dtype='object')"
      ]
     },
     "execution_count": 10,
     "metadata": {},
     "output_type": "execute_result"
    }
   ],
   "source": [
    "df.columns"
   ]
  }
 ],
 "metadata": {
  "kernelspec": {
   "display_name": "Python 3",
   "language": "python",
   "name": "python3"
  },
  "language_info": {
   "codemirror_mode": {
    "name": "ipython",
    "version": 3
   },
   "file_extension": ".py",
   "mimetype": "text/x-python",
   "name": "python",
   "nbconvert_exporter": "python",
   "pygments_lexer": "ipython3",
   "version": "3.7.7"
  },
  "toc": {
   "base_numbering": 1,
   "nav_menu": {},
   "number_sections": false,
   "sideBar": true,
   "skip_h1_title": false,
   "title_cell": "Table of Contents",
   "title_sidebar": "Contents",
   "toc_cell": false,
   "toc_position": {},
   "toc_section_display": true,
   "toc_window_display": true
  },
  "varInspector": {
   "cols": {
    "lenName": 16,
    "lenType": 16,
    "lenVar": 40
   },
   "kernels_config": {
    "python": {
     "delete_cmd_postfix": "",
     "delete_cmd_prefix": "del ",
     "library": "var_list.py",
     "varRefreshCmd": "print(var_dic_list())"
    },
    "r": {
     "delete_cmd_postfix": ") ",
     "delete_cmd_prefix": "rm(",
     "library": "var_list.r",
     "varRefreshCmd": "cat(var_dic_list()) "
    }
   },
   "types_to_exclude": [
    "module",
    "function",
    "builtin_function_or_method",
    "instance",
    "_Feature"
   ],
   "window_display": false
  }
 },
 "nbformat": 4,
 "nbformat_minor": 4
}
