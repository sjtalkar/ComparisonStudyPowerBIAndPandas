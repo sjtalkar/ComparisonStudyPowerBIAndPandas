{
 "cells": [
  {
   "cell_type": "markdown",
   "metadata": {},
   "source": [
    "# Unpivot ANY nested table\n",
    "[Following DataChant's example in PowerBI](https://datachant.com/2016/01/03/transform-any-nested-table-to-pivot-table-with-function-query/) this exercise is conducted in Pandas"
   ]
  },
  {
   "cell_type": "code",
   "execution_count": 157,
   "metadata": {},
   "outputs": [],
   "source": [
    "df = pd.DataFrame(df)"
   ]
  },
  {
   "cell_type": "code",
   "execution_count": 161,
   "metadata": {},
   "outputs": [],
   "source": [
    "df[0]\n",
    "# convert PDF into CSV file\n",
    "tby.convert_into(r\"C:\\Users\\sjtal\\Documents\\ComparisonStudyPowerBIAndPandas\\20200715-covid-19-sitrep-177.pdf\", r\"C:\\Users\\sjtal\\Documents\\ComparisonStudyPowerBIAndPandas\\WHOCountriesCovid.csv\", output_format=\"csv\", pages=[6,7,8,9,10,11,12,13,14,15])\n",
    "\n",
    "\n"
   ]
  },
  {
   "cell_type": "code",
   "execution_count": 182,
   "metadata": {},
   "outputs": [],
   "source": [
    "df = pd.read_csv(r\"C:\\Users\\sjtal\\Documents\\ComparisonStudyPowerBIAndPandas\\WHOCountriesCovid.csv\", encoding='latin')"
   ]
  },
  {
   "cell_type": "code",
   "execution_count": 183,
   "metadata": {},
   "outputs": [],
   "source": [
    "df.tail()\n",
    "#Drop the row containing Grand Total\n",
    "\n",
    "df[df['Reporting Country/Territory/Area'] == 'Grand total']\n",
    "\n",
    "df.drop(df.loc[df['Reporting Country/Territory/Area']=='Grand total'].index, inplace=True)\n",
    "df.drop(df.loc[df['Reporting Country/Territory/Area']=='Subtotal for all regions'].index, inplace=True)\n",
    "\n",
    "df.drop(df.loc[(df['Total confirmed']=='cases') | (df['Total confirmed']=='Totalconfirmed') | (df['Total confirmed']=='Total confirmed') ].index, inplace=True)"
   ]
  },
  {
   "cell_type": "code",
   "execution_count": 184,
   "metadata": {},
   "outputs": [
    {
     "data": {
      "text/plain": [
       "array([nan, '298 292', '33 616', '24 988', '20 216', '15 173', '13 037',\n",
       "       '10 791', '8 243', '8 181', '8 134', '6 200', '5 942', '5 446',\n",
       "       '5 343', '4 321', '2 497', '2 423', '2 358', '2 283', '2 153',\n",
       "       '1 902', '1 780', '1 651', '1 463', '1 434', '1 416', '1 268',\n",
       "       '1 099', '1 064', '1 043', '1 040', '1 038', '1 037', '884', '864',\n",
       "       '731', '541', '509', '416', '399', '343', '321', '269', '256',\n",
       "       '232', '100', '64', '2 724', '599', '3 344 783', '1 884 967',\n",
       "       '330 123', '319 493', '304 435', '154 277', '108 155', '103 265',\n",
       "       '69 570', '49 250', '47 173', '46 305', '29 742', '28 579',\n",
       "       '10 303', '9 707', '8 036', '6 727', '2 980', '2 712', '2 432',\n",
       "       '989', '780', '759', '300', '133', '113', '103', '74', '37', '35',\n",
       "       '23', '22', '18', '17', '10 123', '6 229', '255', '206', '203',\n",
       "       '190', '150', '105', '78', '72', '44', '26', '13', '12', '9', '8',\n",
       "       '6', '3', '2', '262 173', '255 769', '237 803', '104 533',\n",
       "       '83 930', '81 757', '59 568', '56 174', '55 573', '34 940',\n",
       "       '34 078', '16 097', '10 417', '4 979', '3 076', '2 451', '1 563',\n",
       "       '1 520', '1 306', '1 198', '439', '7 734', '746 369', '291 377',\n",
       "       '256 619', '243 344', '214 993', '199 726', '162 390', '76 001',\n",
       "       '65 269', '63 514', '62 781', '55 607', '51 091', '47 051',\n",
       "       '39 294', '38 457', '33 585', '33 005', '32 931', '25 670',\n",
       "       '25 113', '19 708', '19 060', '18 983', '14 293', '13 341',\n",
       "       '13 061', '11 977', '8 984', '8 331', '7 645', '7 301', '6 979',\n",
       "       '6 643', '4 956', '4 263', '3 883', '3 827', '3 752', '2 015',\n",
       "       '1 908', '1 905', '1 875', '1 859', '1 287', '1 178', '1 022',\n",
       "       '1 003', '861', '716', '674', '99', '85', '5 075', '336', '329',\n",
       "       '252', '188', '180', '936 181', '190 057', '78 572', '17 061',\n",
       "       '3 232', '2 801', '2 665', '337', '84', '24', '85 677', '57 545',\n",
       "       '46 630', '22 508', '13 551', '10 251', '8 729', '1 197', '373',\n",
       "       '243', '165', '141', '19', '11', '305', '62', '36', '741'],\n",
       "      dtype=object)"
      ]
     },
     "execution_count": 184,
     "metadata": {},
     "output_type": "execute_result"
    }
   ],
   "source": [
    "df.head()\n",
    "df[df['Total confirmed']=='cases']\n",
    "df['Total confirmed'].unique()"
   ]
  },
  {
   "cell_type": "code",
   "execution_count": 186,
   "metadata": {
    "scrolled": true
   },
   "outputs": [
    {
     "data": {
      "text/html": [
       "<div>\n",
       "<style scoped>\n",
       "    .dataframe tbody tr th:only-of-type {\n",
       "        vertical-align: middle;\n",
       "    }\n",
       "\n",
       "    .dataframe tbody tr th {\n",
       "        vertical-align: top;\n",
       "    }\n",
       "\n",
       "    .dataframe thead th {\n",
       "        text-align: right;\n",
       "    }\n",
       "</style>\n",
       "<table border=\"1\" class=\"dataframe\">\n",
       "  <thead>\n",
       "    <tr style=\"text-align: right;\">\n",
       "      <th></th>\n",
       "      <th>Country</th>\n",
       "      <th>Total confirmed cases</th>\n",
       "      <th>Total confirmed new cases</th>\n",
       "      <th>Total deaths</th>\n",
       "      <th>Total new deaths</th>\n",
       "      <th>Transmission</th>\n",
       "      <th>Days since last</th>\n",
       "    </tr>\n",
       "  </thead>\n",
       "  <tbody>\n",
       "  </tbody>\n",
       "</table>\n",
       "</div>"
      ],
      "text/plain": [
       "Empty DataFrame\n",
       "Columns: [Country, Total confirmed cases, Total confirmed new cases, Total deaths, Total new deaths, Transmission, Days since last]\n",
       "Index: []"
      ]
     },
     "execution_count": 186,
     "metadata": {},
     "output_type": "execute_result"
    }
   ],
   "source": [
    "df = df.rename(columns={'Reporting Country/Territory/Area':'Country', 'Total confirmed':'Total confirmed cases', 'Total confirmed.1':'Total confirmed new cases'})\n",
    "# df.columns\n",
    "#df.set_index('Country',inplace=True)\n",
    "\n",
    "# 238 rows × 6 columns\n",
    "pd.options.display.max_rows = 999\n",
    "df['Total confirmed cases'].unique()\n",
    "df['Total confirmed new cases'].unique()\n",
    "df['Total deaths'].unique()\n",
    "df['Total new deaths'].unique()\n",
    "\n",
    "#Found 'Total new deaths',\n",
    "df[df['Total new deaths'] == 'Total new deaths'] \n",
    "df[df['Total deaths'] == 'Total new deaths'] \n"
   ]
  },
  {
   "cell_type": "code",
   "execution_count": 187,
   "metadata": {},
   "outputs": [
    {
     "data": {
      "text/plain": [
       "(216, 7)"
      ]
     },
     "execution_count": 187,
     "metadata": {},
     "output_type": "execute_result"
    }
   ],
   "source": [
    "df = df.dropna(axis = 0, subset=['Total confirmed cases'])\n",
    "\n",
    "df.shape #(226, 6)\n",
    "\n",
    "\n"
   ]
  },
  {
   "cell_type": "code",
   "execution_count": 189,
   "metadata": {},
   "outputs": [
    {
     "data": {
      "text/plain": [
       "2       298292\n",
       "3        33616\n",
       "4        24988\n",
       "5        20216\n",
       "6        15173\n",
       "7        13037\n",
       "8        10791\n",
       "9         8243\n",
       "10        8181\n",
       "11        8134\n",
       "12        6200\n",
       "13        5942\n",
       "14        5446\n",
       "15        5343\n",
       "16        4321\n",
       "17        2497\n",
       "18        2423\n",
       "19        2358\n",
       "20        2283\n",
       "21        2153\n",
       "22        1902\n",
       "25        1780\n",
       "26        1651\n",
       "27        1463\n",
       "28        1434\n",
       "29        1416\n",
       "30        1268\n",
       "31        1099\n",
       "32        1064\n",
       "33        1043\n",
       "34        1040\n",
       "35        1038\n",
       "36        1037\n",
       "37         884\n",
       "38         864\n",
       "39         731\n",
       "40         541\n",
       "41         509\n",
       "42         416\n",
       "43         399\n",
       "44         343\n",
       "45         321\n",
       "46         269\n",
       "47         256\n",
       "50         232\n",
       "51         100\n",
       "52          64\n",
       "54        2724\n",
       "55         599\n",
       "57     3344783\n",
       "58     1884967\n",
       "59      330123\n",
       "60      319493\n",
       "61      304435\n",
       "62      154277\n",
       "63      108155\n",
       "64      103265\n",
       "65       69570\n",
       "66       49250\n",
       "67       47173\n",
       "68       46305\n",
       "69       29742\n",
       "70       28579\n",
       "71       10303\n",
       "72        9707\n",
       "73        8036\n",
       "76        6727\n",
       "77        2980\n",
       "78        2712\n",
       "79        2432\n",
       "80         989\n",
       "81         780\n",
       "82         759\n",
       "83         300\n",
       "84         133\n",
       "85         113\n",
       "86         103\n",
       "87          74\n",
       "88          37\n",
       "89          35\n",
       "90          23\n",
       "91          22\n",
       "92          18\n",
       "93          17\n",
       "95       10123\n",
       "96        6229\n",
       "97         255\n",
       "98         206\n",
       "99         203\n",
       "102        190\n",
       "103        150\n",
       "104        105\n",
       "105         78\n",
       "106         72\n",
       "107         44\n",
       "108         26\n",
       "109         13\n",
       "110         12\n",
       "111          9\n",
       "112          8\n",
       "113          6\n",
       "114          3\n",
       "115          2\n",
       "117     262173\n",
       "118     255769\n",
       "119     237803\n",
       "120     104533\n",
       "121      83930\n",
       "122      81757\n",
       "123      59568\n",
       "124      56174\n",
       "125      55573\n",
       "128      34940\n",
       "129      34078\n",
       "130      16097\n",
       "131      10417\n",
       "132       4979\n",
       "133       3076\n",
       "134       2451\n",
       "135       1563\n",
       "136       1520\n",
       "137       1306\n",
       "138       1198\n",
       "139        439\n",
       "141       7734\n",
       "143     746369\n",
       "144     291377\n",
       "145     256619\n",
       "146     243344\n",
       "147     214993\n",
       "148     199726\n",
       "149     162390\n",
       "150      76001\n",
       "151      65269\n",
       "154      63514\n",
       "155      62781\n",
       "156      55607\n",
       "157      51091\n",
       "158      47051\n",
       "159      39294\n",
       "160      38457\n",
       "161      33585\n",
       "162      33005\n",
       "163      32931\n",
       "164      25670\n",
       "165      25113\n",
       "166      19708\n",
       "167      19060\n",
       "168      18983\n",
       "169      14293\n",
       "170      13341\n",
       "171      13061\n",
       "172      11977\n",
       "173       8984\n",
       "174       8331\n",
       "175       7645\n",
       "176       7301\n",
       "177       6979\n",
       "180       6643\n",
       "181       4956\n",
       "182       4263\n",
       "183       3883\n",
       "184       3827\n",
       "185       3752\n",
       "186       2015\n",
       "187       1908\n",
       "188       1905\n",
       "189       1875\n",
       "190       1859\n",
       "191       1287\n",
       "192       1178\n",
       "193       1022\n",
       "194       1003\n",
       "195        861\n",
       "196        716\n",
       "197        674\n",
       "198         99\n",
       "199         85\n",
       "200         12\n",
       "202       5075\n",
       "205        336\n",
       "206        329\n",
       "207        252\n",
       "208        188\n",
       "209        180\n",
       "210         13\n",
       "212     936181\n",
       "213     190057\n",
       "214      78572\n",
       "215      17061\n",
       "216       3232\n",
       "217       2801\n",
       "218       2665\n",
       "219        337\n",
       "220         84\n",
       "221         24\n",
       "223      85677\n",
       "224      57545\n",
       "225      46630\n",
       "226      22508\n",
       "227      13551\n",
       "230      10251\n",
       "231       8729\n",
       "232       1197\n",
       "233        373\n",
       "234        243\n",
       "235        165\n",
       "236        141\n",
       "237         26\n",
       "238         19\n",
       "239         11\n",
       "241        305\n",
       "242         62\n",
       "243         36\n",
       "245         22\n",
       "247        741\n",
       "Name: Total confirmed cases, dtype: object"
      ]
     },
     "execution_count": 189,
     "metadata": {},
     "output_type": "execute_result"
    }
   ],
   "source": [
    "df['Total confirmed cases']= df['Total confirmed cases'].apply(lambda x: x.replace(' ',''))\n",
    "df['Total confirmed new cases'] = df['Total confirmed new cases'].apply(lambda x: x.replace(' ',''))\n",
    "df['Total deaths'] = df['Total deaths'].apply(lambda x: x.replace(' ',''))\n",
    "df['Total new deaths'] = df['Total new deaths'].apply(lambda x: x.replace(' ',''))\n",
    "\n",
    "# When facing challenges in changing data type, check if you have strings in any of the columns or rows\n",
    "df['Total confirmed cases'].astype(str).astype(int)\n",
    "# \n",
    "# pd.to_numeric(df['Total confirmed cases'])\n",
    "# \n",
    "\n",
    "\n",
    "df.index\n",
    "df['Total confirmed cases']\n"
   ]
  },
  {
   "cell_type": "code",
   "execution_count": 111,
   "metadata": {},
   "outputs": [
    {
     "data": {
      "text/plain": [
       "Total confirmed cases                   936181\n",
       "Total confirmed new cases                29429\n",
       "Total deaths                             24309\n",
       "Total new deaths                           582\n",
       "Transmission                 Clusters of cases\n",
       "Days since last                              0\n",
       "Name: India, dtype: object"
      ]
     },
     "execution_count": 111,
     "metadata": {},
     "output_type": "execute_result"
    }
   ],
   "source": [
    "\n",
    "df.loc['India']"
   ]
  }
 ],
 "metadata": {
  "kernelspec": {
   "display_name": "Python 3",
   "language": "python",
   "name": "python3"
  },
  "language_info": {
   "codemirror_mode": {
    "name": "ipython",
    "version": 3
   },
   "file_extension": ".py",
   "mimetype": "text/x-python",
   "name": "python",
   "nbconvert_exporter": "python",
   "pygments_lexer": "ipython3",
   "version": "3.7.7"
  },
  "toc": {
   "base_numbering": 1,
   "nav_menu": {},
   "number_sections": false,
   "sideBar": true,
   "skip_h1_title": false,
   "title_cell": "Table of Contents",
   "title_sidebar": "Contents",
   "toc_cell": false,
   "toc_position": {},
   "toc_section_display": true,
   "toc_window_display": true
  },
  "varInspector": {
   "cols": {
    "lenName": 16,
    "lenType": 16,
    "lenVar": 40
   },
   "kernels_config": {
    "python": {
     "delete_cmd_postfix": "",
     "delete_cmd_prefix": "del ",
     "library": "var_list.py",
     "varRefreshCmd": "print(var_dic_list())"
    },
    "r": {
     "delete_cmd_postfix": ") ",
     "delete_cmd_prefix": "rm(",
     "library": "var_list.r",
     "varRefreshCmd": "cat(var_dic_list()) "
    }
   },
   "types_to_exclude": [
    "module",
    "function",
    "builtin_function_or_method",
    "instance",
    "_Feature"
   ],
   "window_display": false
  }
 },
 "nbformat": 4,
 "nbformat_minor": 4
}
